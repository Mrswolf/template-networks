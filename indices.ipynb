{
 "cells": [
  {
   "cell_type": "code",
   "execution_count": null,
   "id": "52478a7b-70b2-48ba-8324-49013ecd3926",
   "metadata": {},
   "outputs": [],
   "source": [
    "import os\n",
    "\n",
    "import numpy as np\n",
    "import joblib\n",
    "from scipy.signal import sosfiltfilt\n",
    "from sklearn.pipeline import make_pipeline, clone\n",
    "from sklearn.metrics import confusion_matrix, balanced_accuracy_score\n",
    "\n",
    "from brainda.datasets import Nakanishi2015, Wang2016, BETA\n",
    "from brainda.paradigms import SSVEP\n",
    "from brainda.algorithms.utils.model_selection import (\n",
    "    set_random_seeds,\n",
    "    generate_loo_indices, match_loo_indices)\n",
    "from brainda.algorithms.decomposition import (\n",
    "    SCCA, FBSCCA, \n",
    "    ItCCA, FBItCCA, \n",
    "    ECCA, FBECCA, \n",
    "    TtCCA, FBTtCCA, \n",
    "    MsetCCA, FBMsetCCA,\n",
    "    MsCCA, FBMsCCA,\n",
    "    MsetCCAR, FBMsetCCAR,\n",
    "    TRCA, TRCAR, \n",
    "    FBTRCA, FBTRCAR,\n",
    "    DSP, FBDSP,\n",
    "    TDCA, FBTDCA,\n",
    "    generate_filterbank, generate_cca_references)\n",
    "from brainda.algorithms.deep_learning import EEGNet\n",
    "\n",
    "import torch, skorch\n",
    "import torch.nn as nn\n",
    "import torch.nn.functional as F\n",
    "import torch.optim as optim\n",
    "\n",
    "from utils import *"
   ]
  },
  {
   "cell_type": "code",
   "execution_count": null,
   "id": "939dda79-f117-4af2-9044-6310eae1716e",
   "metadata": {},
   "outputs": [],
   "source": [
    "datasets = [\n",
    "    Nakanishi2015(),\n",
    "    Wang2016(),\n",
    "    BETA()\n",
    "]\n",
    "srate = 100\n",
    "channels = ['OZ']\n",
    "duration = 0.2 # seconds\n",
    "force_update = False\n",
    "\n",
    "for dataset in datasets:\n",
    "    os.makedirs('indices', exist_ok=True)\n",
    "    events = list(dataset.events.keys())\n",
    "    \n",
    "    save_file = \"{:s}-loo-{:d}class-indices.joblib\".format(\n",
    "        dataset.dataset_code, len(events))\n",
    "    save_file = os.path.join('indices', save_file)\n",
    "    if not force_update and os.path.exists(save_file):\n",
    "        continue\n",
    "        \n",
    "    X, y, meta = get_ssvep_data(\n",
    "        dataset, srate, channels, duration, events)\n",
    "    \n",
    "    set_random_seeds(38)\n",
    "    indices = generate_loo_indices(meta)\n",
    "    joblib.dump(\n",
    "        {'indices': indices}, \n",
    "        save_file)\n",
    "    print(\"{:s} loo indices generated.\".format(\n",
    "        dataset.dataset_code))\n",
    "    del X, y, meta"
   ]
  },
  {
   "cell_type": "code",
   "execution_count": null,
   "id": "0d8c35ab-6565-4513-a119-2c02cf35f615",
   "metadata": {},
   "outputs": [],
   "source": []
  }
 ],
 "metadata": {
  "kernelspec": {
   "display_name": "Python 3 (ipykernel)",
   "language": "python",
   "name": "python3"
  },
  "language_info": {
   "codemirror_mode": {
    "name": "ipython",
    "version": 3
   },
   "file_extension": ".py",
   "mimetype": "text/x-python",
   "name": "python",
   "nbconvert_exporter": "python",
   "pygments_lexer": "ipython3",
   "version": "3.7.11"
  }
 },
 "nbformat": 4,
 "nbformat_minor": 5
}
